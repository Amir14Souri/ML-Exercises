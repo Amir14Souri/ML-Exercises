{
 "cells": [
  {
   "cell_type": "markdown",
   "id": "11aaa8a6",
   "metadata": {},
   "source": [
    "# Decision Tree"
   ]
  },
  {
   "cell_type": "code",
   "execution_count": 1,
   "id": "bde3ce9b",
   "metadata": {},
   "outputs": [],
   "source": [
    "import numpy as np, matplotlib.pyplot as plt\n",
    "from sklearn import datasets"
   ]
  },
  {
   "cell_type": "code",
   "execution_count": 2,
   "id": "d387a440",
   "metadata": {},
   "outputs": [
    {
     "name": "stdout",
     "output_type": "stream",
     "text": [
      "dict_keys(['data', 'target', 'frame', 'target_names', 'DESCR', 'feature_names', 'filename', 'data_module'])\n"
     ]
    }
   ],
   "source": [
    "iris = datasets.load_iris()\n",
    "print(iris.keys())"
   ]
  },
  {
   "cell_type": "code",
   "execution_count": 3,
   "id": "7651bd2a",
   "metadata": {},
   "outputs": [
    {
     "name": "stdout",
     "output_type": "stream",
     "text": [
      "['sepal length (cm)', 'sepal width (cm)', 'petal length (cm)', 'petal width (cm)']\n",
      "['setosa' 'versicolor' 'virginica']\n"
     ]
    }
   ],
   "source": [
    "print(iris.feature_names)\n",
    "print(iris.target_names)"
   ]
  },
  {
   "cell_type": "code",
   "execution_count": 4,
   "id": "ac842c58",
   "metadata": {},
   "outputs": [],
   "source": [
    "X = iris.data[:, 2:]\n",
    "y = iris.target"
   ]
  },
  {
   "cell_type": "markdown",
   "id": "c4563e70",
   "metadata": {},
   "source": [
    "## Classification\n",
    "using *scikit-learn*"
   ]
  },
  {
   "cell_type": "code",
   "execution_count": 5,
   "id": "4e84047d",
   "metadata": {},
   "outputs": [
    {
     "data": {
      "image/png": "[encoded data removed]",
      "text/plain": [
       "<Figure size 1050x450 with 1 Axes>"
      ]
     },
     "metadata": {},
     "output_type": "display_data"
    }
   ],
   "source": [
    "def plot_target(y):\n",
    "    colors, markers = [], []\n",
    "    for i in range(len(y)):\n",
    "        if (y[i] == 0):\n",
    "            colors.append('g')\n",
    "            markers.append('^')\n",
    "        elif (y[i] == 1):\n",
    "            colors.append('b')\n",
    "            markers.append('s')\n",
    "        else:\n",
    "            colors.append('#f79f1b')\n",
    "            markers.append('o')\n",
    "    return colors, markers\n",
    "colors, markers = plot_target(y)\n",
    "\n",
    "plt.figure(figsize=(10.5, 4.5))\n",
    "for x_s, y_s, c, m in zip(X[:, 0], X[:, 1], colors, markers):\n",
    "    a = plt.scatter(x_s, y_s, c=c, marker=m, s=25)\n",
    "plt.legend([plt.scatter([], [], c='g', marker='^'), plt.scatter([], [], c='b', marker='s')], ['Virginica', 'Not Virginica'])\n",
    "plt.xlabel('Petal Length (cm)')\n",
    "plt.ylabel('Petal Width (cm)')\n",
    "plt.show()"
   ]
  },
  {
   "cell_type": "code",
   "execution_count": 6,
   "id": "42b437dd",
   "metadata": {},
   "outputs": [],
   "source": [
    "from sklearn.tree import DecisionTreeClassifier"
   ]
  },
  {
   "cell_type": "code",
   "execution_count": 7,
   "id": "3fc797ad",
   "metadata": {},
   "outputs": [
    {
     "name": "stdout",
     "output_type": "stream",
     "text": [
      "accuracy: 96.0 %\n"
     ]
    }
   ],
   "source": [
    "tree_clf = DecisionTreeClassifier(max_depth=2)\n",
    "tree_clf.fit(X, y)\n",
    "print(\"accuracy:\", sum(tree_clf.predict(X) == y) / len(y) * 100, \"%\")"
   ]
  },
  {
   "cell_type": "code",
   "execution_count": 8,
   "id": "b5e8d66e",
   "metadata": {},
   "outputs": [],
   "source": [
    "from sklearn.tree import export_graphviz"
   ]
  },
  {
   "cell_type": "code",
   "execution_count": 9,
   "id": "92483e57",
   "metadata": {},
   "outputs": [],
   "source": [
    "export_graphviz(tree_clf, out_file='iris_tree.dot', feature_names=iris.feature_names[2:],\n",
    "               class_names=iris.target_names, rounded=True, filled=True)"
   ]
  },
  {
   "cell_type": "markdown",
   "id": "1bffc4dd",
   "metadata": {},
   "source": [
    "## Classification Implementation\n",
    "using *cost function*, below"
   ]
  },
  {
   "cell_type": "markdown",
   "id": "873488ed",
   "metadata": {},
   "source": [
    "below are the options we can use to implement a Decision Tree\n",
    "\n",
    "---\n",
    "### cost function: $J(k, t_{K}) = \\dfrac{m_{left}}{m}G_{left} + \\dfrac{m_{right}}{m}G_{right}$\n",
    "where $G = 1 - \\sum p_{k}^{2}$ is called **Gini score**, and the objective is to *minimize* it\n",
    "\n",
    "---\n",
    "### information gain: $IG = E(parent) - \\text{weighted average}(E(children))$\n",
    "where $E = - \\sum p_{k} . log_{2}(p_{k})$ is called **Entropy**, and the objective is to *maximize* IG"
   ]
  },
  {
   "cell_type": "code",
   "execution_count": 10,
   "id": "10bd34c5",
   "metadata": {},
   "outputs": [],
   "source": [
    "import statistics as st\n",
    "\n",
    "class Node:\n",
    "    \n",
    "    def __init__(self, feature=None, threshold=None, left=None, right=None, value=None, depth=0):\n",
    "        self.feature = feature\n",
    "        self.threshold = threshold\n",
    "        self.left = left\n",
    "        self.right = right\n",
    "        self.value = value\n",
    "        self.depth = depth\n",
    "        \n",
    "    def is_leaf_node(self):\n",
    "        return self.value is not None\n",
    "    \n",
    "class DecisionTreeClf:\n",
    "    \n",
    "    def __init__(self, min_samples_split=2, max_depth=100, max_features=None):\n",
    "        self.min_samples_split = min_samples_split\n",
    "        self.max_depth = max_depth\n",
    "        self.max_features = max_features\n",
    "        self.root = None\n",
    "\n",
    "    def fit(self, X, y):\n",
    "        if self.min_samples_split < 1:\n",
    "            raise Exception('invalid min_samples_split value')\n",
    "        if self.max_depth < 1:\n",
    "            raise Exception('invalid max_depth value')\n",
    "        if self.max_features is not None and self.max_features < 1:\n",
    "            raise Exception('invalid max_features value')\n",
    "        self.max_features = X.shape[1] if self.max_features is None else min(X.shape[1], self.max_features)\n",
    "        self.root = self._grow_tree(X, y)\n",
    "\n",
    "    \n",
    "    def predict(self, X):\n",
    "        return np.array([self._traverse_tree(x, self.root) for x in X])\n",
    "    \n",
    "        \n",
    "    def _grow_tree(self, X, y, depth=0):\n",
    "        n_samples, n_features = X.shape\n",
    "        n_labels = len(np.unique(y))\n",
    "\n",
    "        # leaf node\n",
    "        if (depth >= self.max_depth or n_labels == 1 or n_samples < self.min_samples_split):\n",
    "            leaf_value = st.mode(y)\n",
    "            return Node(value=leaf_value, depth=depth)\n",
    "        \n",
    "        # internal node\n",
    "        feature_idxs = np.random.choice(n_features, self.max_features, replace=False)\n",
    "        best_feature_idx, best_threshold = self._best_split(X, y, feature_idxs)\n",
    "        if (best_feature_idx is None or best_threshold is None):\n",
    "            leaf_value = st.mode(y)\n",
    "            return Node(value=leaf_value, depth=depth)\n",
    "        \n",
    "        # create children\n",
    "        left_idxs, right_idxs = self._split(X[:, best_feature_idx], best_threshold)\n",
    "        left = self._grow_tree(X[left_idxs], y[left_idxs], depth + 1)\n",
    "        right = self._grow_tree(X[right_idxs], y[right_idxs], depth + 1)\n",
    "        return Node(best_feature_idx, best_threshold, left, right, depth=depth)\n",
    "        \n",
    "    \n",
    "    def _best_split(self, X, y, feature_idxs):\n",
    "        least_cost = 1\n",
    "        split_feature_idx, split_threshold = None, None\n",
    "        \n",
    "        for feature_idx in feature_idxs:\n",
    "            feature_column = X[:, feature_idx]\n",
    "            thresholds = np.unique(feature_column)\n",
    "            \n",
    "            for threshold in thresholds:\n",
    "                cost = self._calculate_split_cost(y, feature_column, threshold)\n",
    "                \n",
    "                if cost is None:\n",
    "                    continue\n",
    "                if cost < least_cost:\n",
    "                    least_cost = cost\n",
    "                    split_feature_idx = feature_idx\n",
    "                    split_threshold = threshold\n",
    "        return split_feature_idx, split_threshold\n",
    "            \n",
    "        \n",
    "    def _calculate_split_cost(self, y, feature_column, threshold):\n",
    "        # get splitted indexes\n",
    "        n = len(y)\n",
    "        left_idxs, right_idxs = self._split(feature_column, threshold)\n",
    "        \n",
    "        if len(left_idxs) == 0 or len(right_idxs) == 0:\n",
    "            return None\n",
    "        \n",
    "        n_left, n_right = len(left_idxs), len(right_idxs)\n",
    "        g_left, g_right = self._gini(y[left_idxs]), self._gini(y[right_idxs])\n",
    "        cost = (n_left / n) * g_left + (n_right / n) * g_right\n",
    "        return cost\n",
    "        \n",
    "        \n",
    "    def _gini(self, y):\n",
    "        hist = np.bincount(y)\n",
    "        ps = hist / len(y)\n",
    "        gini = 1 - sum([p ** 2 for p in ps])\n",
    "        return gini\n",
    "        \n",
    "        \n",
    "    def _split(self, feature_column, threshold):\n",
    "        left_idxs = np.argwhere(feature_column < threshold).flatten()\n",
    "        right_idxs = np.argwhere(feature_column >= threshold).flatten()\n",
    "        return left_idxs, right_idxs\n",
    "    \n",
    "    \n",
    "    def _traverse_tree(self, x, node):\n",
    "        if node.is_leaf_node():\n",
    "            return node.value\n",
    "        \n",
    "        if x[node.feature] >= node.threshold:\n",
    "            return self._traverse_tree(x, node.right)\n",
    "        return self._traverse_tree(x, node.left)\n",
    "    \n",
    "    def _print_tree(self, node):\n",
    "        self._space(4 * node.depth)\n",
    "        print('*')\n",
    "        self._space(4 * node.depth)\n",
    "        print('feature:', node.feature)\n",
    "        self._space(4 * node.depth)\n",
    "        print('threshold:', node.threshold)\n",
    "        if (node.is_leaf_node):\n",
    "            self._space(4 * node.depth)\n",
    "            print('value:', node.value)   \n",
    "        self._space(4 * node.depth)\n",
    "        print('*')\n",
    "        \n",
    "        if node.is_leaf_node():\n",
    "            return\n",
    "        self._print_tree(node.left)\n",
    "        self._print_tree(node.right)\n",
    "        return\n",
    "    \n",
    "    \n",
    "    def _space(self, n):\n",
    "        for _ in range(n):\n",
    "            print(' ', end='')"
   ]
  },
  {
   "cell_type": "code",
   "execution_count": 11,
   "id": "d623cce2",
   "metadata": {
    "scrolled": false
   },
   "outputs": [
    {
     "name": "stdout",
     "output_type": "stream",
     "text": [
      "accuracy: 97.33333333333334 %\n",
      "*\n",
      "feature: 1\n",
      "threshold: 1.0\n",
      "value: None\n",
      "*\n",
      "    *\n",
      "    feature: None\n",
      "    threshold: None\n",
      "    value: 0\n",
      "    *\n",
      "    *\n",
      "    feature: 1\n",
      "    threshold: 1.8\n",
      "    value: None\n",
      "    *\n",
      "        *\n",
      "        feature: 0\n",
      "        threshold: 5.0\n",
      "        value: None\n",
      "        *\n",
      "            *\n",
      "            feature: None\n",
      "            threshold: None\n",
      "            value: 1\n",
      "            *\n",
      "            *\n",
      "            feature: None\n",
      "            threshold: None\n",
      "            value: 2\n",
      "            *\n",
      "        *\n",
      "        feature: 0\n",
      "        threshold: 4.9\n",
      "        value: None\n",
      "        *\n",
      "            *\n",
      "            feature: None\n",
      "            threshold: None\n",
      "            value: 2\n",
      "            *\n",
      "            *\n",
      "            feature: None\n",
      "            threshold: None\n",
      "            value: 2\n",
      "            *\n"
     ]
    }
   ],
   "source": [
    "tree_clf = DecisionTreeClf(max_depth=3)\n",
    "tree_clf.fit(X, y)\n",
    "y_pred = tree_clf.predict(X)\n",
    "print(\"accuracy:\", sum(y_pred == y) / len(y) * 100, \"%\")\n",
    "tree_clf._print_tree(tree_clf.root)"
   ]
  },
  {
   "cell_type": "markdown",
   "id": "08dc4b90",
   "metadata": {},
   "source": [
    "## Regression\n",
    "using *scikit-learn*"
   ]
  },
  {
   "cell_type": "code",
   "execution_count": 12,
   "id": "77e86cf7",
   "metadata": {},
   "outputs": [],
   "source": [
    "np.random.seed(42)\n",
    "X = np.linspace(-1, 3, 100).reshape(-1, 1)\n",
    "y = X.ravel() ** 2 + 0.6 * np.random.randn(100)"
   ]
  },
  {
   "cell_type": "code",
   "execution_count": 13,
   "id": "39f74f8e",
   "metadata": {},
   "outputs": [
    {
     "data": {
      "image/png": "[encoded data removed]",
      "text/plain": [
       "<Figure size 640x480 with 1 Axes>"
      ]
     },
     "metadata": {},
     "output_type": "display_data"
    }
   ],
   "source": [
    "plt.scatter(X, y, c='b', s=15)\n",
    "plt.show()"
   ]
  },
  {
   "cell_type": "code",
   "execution_count": 14,
   "id": "83ed8581",
   "metadata": {},
   "outputs": [],
   "source": [
    "from sklearn.tree import DecisionTreeRegressor\n",
    "from sklearn.metrics import mean_squared_error"
   ]
  },
  {
   "cell_type": "code",
   "execution_count": 15,
   "id": "df4a3ebc",
   "metadata": {},
   "outputs": [
    {
     "name": "stdout",
     "output_type": "stream",
     "text": [
      "rmse: 0.5336335054792878\n"
     ]
    }
   ],
   "source": [
    "tree_reg = DecisionTreeRegressor(max_depth=3)\n",
    "tree_reg.fit(X, y)\n",
    "y_pred = tree_reg.predict(X)\n",
    "print(\"rmse:\", np.sqrt(mean_squared_error(y, y_pred)))"
   ]
  },
  {
   "cell_type": "code",
   "execution_count": 16,
   "id": "f52e7105",
   "metadata": {},
   "outputs": [
    {
     "data": {
      "image/png": "[encoded data removed]",
      "text/plain": [
       "<Figure size 640x480 with 1 Axes>"
      ]
     },
     "metadata": {},
     "output_type": "display_data"
    }
   ],
   "source": [
    "plt.scatter(X, y, c='b', s=15)\n",
    "plt.plot(X, y_pred, c='r', marker='o', ms=3, label='prediction')\n",
    "plt.legend()\n",
    "plt.show()"
   ]
  },
  {
   "cell_type": "markdown",
   "id": "3b401260",
   "metadata": {},
   "source": [
    "## Regression Implementation"
   ]
  },
  {
   "cell_type": "markdown",
   "id": "bcd8101c",
   "metadata": {},
   "source": [
    "### cost function: $J(k, t_{K}) = \\dfrac{m_{left}}{m}MSE_{left} + \\dfrac{m_{right}}{m}MSE_{right}$\n",
    "where $MSE = \\sum (\\hat{y}_{node} - y^{(i)})^{2}$ and $\\hat{y}_{node} = \\dfrac{1}{m_{node}} \\sum y^{(i)}$"
   ]
  },
  {
   "cell_type": "code",
   "execution_count": 17,
   "id": "840feed0",
   "metadata": {},
   "outputs": [],
   "source": [
    "import statistics as st\n",
    "\n",
    "class Node:\n",
    "    \n",
    "    def __init__(self, feature=None, threshold=None, left=None, right=None, value=None, depth=0):\n",
    "        self.feature = feature\n",
    "        self.threshold = threshold\n",
    "        self.left = left\n",
    "        self.right = right\n",
    "        self.value = value\n",
    "        self.depth = depth\n",
    "        \n",
    "    def is_leaf_node(self):\n",
    "        return self.value is not None\n",
    "    \n",
    "class DecisionTreeReg:\n",
    "    \n",
    "    def __init__(self, min_samples_split=2, max_depth=100, max_features=None):\n",
    "        self.min_samples_split = min_samples_split\n",
    "        self.max_depth = max_depth\n",
    "        self.max_features = max_features\n",
    "        self.root = None\n",
    "\n",
    "    def fit(self, X, y):\n",
    "        if self.min_samples_split < 1:\n",
    "            raise Exception('invalid min_samples_split value')\n",
    "        if self.max_depth < 1:\n",
    "            raise Exception('invalid max_depth value')\n",
    "        if self.max_features is not None and self.max_features < 1:\n",
    "            raise Exception('invalid max_features value')\n",
    "        self.max_features = X.shape[1] if self.max_features is None else min(X.shape[1], self.max_features)\n",
    "        self.root = self._grow_tree(X, y)\n",
    "\n",
    "    \n",
    "    def predict(self, X):\n",
    "        return np.array([self._traverse_tree(x, self.root) for x in X])\n",
    "    \n",
    "        \n",
    "    def _grow_tree(self, X, y, depth=0):\n",
    "        n_samples, n_features = X.shape\n",
    "        n_labels = len(np.unique(y))\n",
    "\n",
    "        # leaf node\n",
    "        if (depth >= self.max_depth or n_labels == 1 or n_samples < self.min_samples_split):\n",
    "            leaf_value = st.mean(y)\n",
    "            return Node(value=leaf_value, depth=depth)\n",
    "        \n",
    "        # internal node\n",
    "        feature_idxs = np.random.choice(n_features, self.max_features, replace=False)\n",
    "        best_feature_idx, best_threshold = self._best_split(X, y, feature_idxs)\n",
    "        if (best_feature_idx is None or best_threshold is None):\n",
    "            leaf_value = st.mean(y)\n",
    "            return Node(value=leaf_value, depth=depth)\n",
    "        \n",
    "        # create children\n",
    "        left_idxs, right_idxs = self._split(X[:, best_feature_idx], best_threshold)\n",
    "        left = self._grow_tree(X[left_idxs], y[left_idxs], depth + 1)\n",
    "        right = self._grow_tree(X[right_idxs], y[right_idxs], depth + 1)\n",
    "        return Node(best_feature_idx, best_threshold, left, right, depth=depth)\n",
    "        \n",
    "    \n",
    "    def _best_split(self, X, y, feature_idxs):\n",
    "        least_cost = float('inf')\n",
    "        split_feature_idx, split_threshold = None, None\n",
    "        \n",
    "        for feature_idx in feature_idxs:\n",
    "            feature_column = X[:, feature_idx]\n",
    "            thresholds = np.unique(feature_column)\n",
    "            \n",
    "            for threshold in thresholds:\n",
    "                cost = self._calculate_split_cost(y, feature_column, threshold)\n",
    "                \n",
    "                if cost is None:\n",
    "                    continue\n",
    "                if cost < least_cost:\n",
    "                    least_cost = cost\n",
    "                    split_feature_idx = feature_idx\n",
    "                    split_threshold = threshold\n",
    "        return split_feature_idx, split_threshold\n",
    "            \n",
    "        \n",
    "    def _calculate_split_cost(self, y, feature_column, threshold):\n",
    "        # get splitted indexes\n",
    "        n = len(y)\n",
    "        left_idxs, right_idxs = self._split(feature_column, threshold)\n",
    "        \n",
    "        if len(left_idxs) == 0 or len(right_idxs) == 0:\n",
    "            return None\n",
    "        \n",
    "        n_left, n_right = len(left_idxs), len(right_idxs)\n",
    "        mse_left, mse_right = self._mse(y[left_idxs]), self._mse(y[right_idxs])\n",
    "        cost = (n_left / n) * mse_left + (n_right / n) * mse_right\n",
    "        return cost\n",
    "        \n",
    "        \n",
    "    def _mse(self, y):\n",
    "        y_pred = sum(y) / len(y)\n",
    "        mse = sum([(y_pred - y_i) ** 2 for y_i in y])\n",
    "        return mse\n",
    "        \n",
    "        \n",
    "    def _split(self, feature_column, threshold):\n",
    "        left_idxs = np.argwhere(feature_column < threshold).flatten()\n",
    "        right_idxs = np.argwhere(feature_column >= threshold).flatten()\n",
    "        return left_idxs, right_idxs\n",
    "    \n",
    "    \n",
    "    def _traverse_tree(self, x, node):\n",
    "        if node.is_leaf_node():\n",
    "            return node.value\n",
    "        \n",
    "        if x[node.feature] >= node.threshold:\n",
    "            return self._traverse_tree(x, node.right)\n",
    "        return self._traverse_tree(x, node.left)\n",
    "    \n",
    "    def _print_tree(self, node):\n",
    "        self._space(4 * node.depth)\n",
    "        print('*')\n",
    "        self._space(4 * node.depth)\n",
    "        print('feature:', node.feature)\n",
    "        self._space(4 * node.depth)\n",
    "        print('threshold:', node.threshold)\n",
    "        if (node.is_leaf_node):\n",
    "            self._space(4 * node.depth)\n",
    "            print('value:', node.value)   \n",
    "        self._space(4 * node.depth)\n",
    "        print('*')\n",
    "        \n",
    "        if node.is_leaf_node():\n",
    "            return\n",
    "        self._print_tree(node.left)\n",
    "        self._print_tree(node.right)\n",
    "        return\n",
    "    \n",
    "    \n",
    "    def _space(self, n):\n",
    "        for _ in range(n):\n",
    "            print(' ', end='')"
   ]
  },
  {
   "cell_type": "code",
   "execution_count": 18,
   "id": "48e80370",
   "metadata": {},
   "outputs": [
    {
     "name": "stdout",
     "output_type": "stream",
     "text": [
      "rmse: 0.5627466939970829\n",
      "*\n",
      "feature: 0\n",
      "threshold: 1.585858585858586\n",
      "value: None\n",
      "*\n",
      "    *\n",
      "    feature: 0\n",
      "    threshold: 0.8585858585858588\n",
      "    value: None\n",
      "    *\n",
      "        *\n",
      "        feature: 0\n",
      "        threshold: -0.4747474747474747\n",
      "        value: None\n",
      "        *\n",
      "            *\n",
      "            feature: None\n",
      "            threshold: None\n",
      "            value: 0.7718570365310451\n",
      "            *\n",
      "            *\n",
      "            feature: None\n",
      "            threshold: None\n",
      "            value: -0.08148624704652878\n",
      "            *\n",
      "        *\n",
      "        feature: 0\n",
      "        threshold: 1.1414141414141414\n",
      "        value: None\n",
      "        *\n",
      "            *\n",
      "            feature: None\n",
      "            threshold: None\n",
      "            value: 0.8327461366947203\n",
      "            *\n",
      "            *\n",
      "            feature: None\n",
      "            threshold: None\n",
      "            value: 1.808320324145449\n",
      "            *\n",
      "    *\n",
      "    feature: 0\n",
      "    threshold: 2.3131313131313136\n",
      "    value: None\n",
      "    *\n",
      "        *\n",
      "        feature: 0\n",
      "        threshold: 2.0303030303030307\n",
      "        value: None\n",
      "        *\n",
      "            *\n",
      "            feature: None\n",
      "            threshold: None\n",
      "            value: 3.410579583991615\n",
      "            *\n",
      "            *\n",
      "            feature: None\n",
      "            threshold: None\n",
      "            value: 4.537110944645127\n",
      "            *\n",
      "        *\n",
      "        feature: 0\n",
      "        threshold: 2.676767676767677\n",
      "        value: None\n",
      "        *\n",
      "            *\n",
      "            feature: None\n",
      "            threshold: None\n",
      "            value: 6.2001990527118975\n",
      "            *\n",
      "            *\n",
      "            feature: None\n",
      "            threshold: None\n",
      "            value: 7.961373291958733\n",
      "            *\n"
     ]
    }
   ],
   "source": [
    "tree_reg = DecisionTreeReg(max_depth=3)\n",
    "tree_reg.fit(X, y)\n",
    "y_pred = tree_reg.predict(X)\n",
    "print(\"rmse:\", np.sqrt(mean_squared_error(y, y_pred)))\n",
    "tree_reg._print_tree(tree_reg.root)"
   ]
  },
  {
   "cell_type": "code",
   "execution_count": 19,
   "id": "b4255f1f",
   "metadata": {},
   "outputs": [
    {
     "data": {
      "image/png": "[encoded data removed]",
      "text/plain": [
       "<Figure size 640x480 with 1 Axes>"
      ]
     },
     "metadata": {},
     "output_type": "display_data"
    }
   ],
   "source": [
    "plt.scatter(X, y, c='b', s=15)\n",
    "plt.plot(X, y_pred, c='r', marker='o', ms=3, label='prediction')\n",
    "plt.legend()\n",
    "plt.show()"
   ]
  }
 ],
 "metadata": {
  "kernelspec": {
   "display_name": "Python 3 (ipykernel)",
   "language": "python",
   "name": "python3"
  },
  "language_info": {
   "codemirror_mode": {
    "name": "ipython",
    "version": 3
   },
   "file_extension": ".py",
   "mimetype": "text/x-python",
   "name": "python",
   "nbconvert_exporter": "python",
   "pygments_lexer": "ipython3",
   "version": "3.11.1"
  }
 },
 "nbformat": 4,
 "nbformat_minor": 5
}
